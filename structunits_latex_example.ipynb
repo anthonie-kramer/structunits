{
 "cells": [
  {
   "cell_type": "markdown",
   "metadata": {},
   "source": [
    "# structunits LaTeX Output Example\n",
    "\n",
    "This notebook demonstrates the LaTeX output capabilities of the structunits framework."
   ]
  },
  {
   "cell_type": "code",
   "execution_count": 19,
   "metadata": {},
   "outputs": [],
   "source": [
    "# Import the required modules\n",
    "from structunits.specific_units.length import Length\n",
    "from structunits.specific_units.length_unit import LengthUnit\n",
    "from structunits.result import Result\n",
    "from structunits.flt import FLT\n",
    "\n",
    "# Optional: For displaying LaTeX in the notebook\n",
    "from IPython.display import display, Math"
   ]
  },
  {
   "cell_type": "markdown",
   "metadata": {},
   "source": [
    "## Creating Length Values with Different Units"
   ]
  },
  {
   "cell_type": "code",
   "execution_count": 20,
   "metadata": {},
   "outputs": [],
   "source": [
    "# Create lengths with different units\n",
    "inch_length = Length(10, LengthUnit.INCH)\n",
    "foot_length = Length(10, LengthUnit.FOOT)\n",
    "meter_length = Length(2, LengthUnit.METER)\n",
    "mm_length = Length(25, LengthUnit.MILLIMETER)"
   ]
  },
  {
   "cell_type": "code",
   "execution_count": 21,
   "metadata": {},
   "outputs": [
    {
     "data": {
      "text/latex": [
       "$\\displaystyle 10.83 \\, \\mathrm{ft}$"
      ],
      "text/plain": [
       "<IPython.core.display.Math object>"
      ]
     },
     "metadata": {},
     "output_type": "display_data"
    }
   ],
   "source": [
    "total_length = inch_length + foot_length\n",
    "total_length.display_unit = LengthUnit.FOOT\n",
    "display(Math(total_length.to_latex_string()))"
   ]
  },
  {
   "cell_type": "markdown",
   "metadata": {},
   "source": [
    "## Basic LaTeX Output"
   ]
  },
  {
   "cell_type": "code",
   "execution_count": 22,
   "metadata": {},
   "outputs": [
    {
     "data": {
      "text/latex": [
       "$\\displaystyle 10 \\, \\mathrm{in}$"
      ],
      "text/plain": [
       "<IPython.core.display.Math object>"
      ]
     },
     "metadata": {},
     "output_type": "display_data"
    }
   ],
   "source": [
    "# Display LaTeX representation of inch_length\n",
    "inch_latex = inch_length.to_latex_string()\n",
    "display(Math(inch_latex))"
   ]
  },
  {
   "cell_type": "code",
   "execution_count": 23,
   "metadata": {},
   "outputs": [
    {
     "data": {
      "text/latex": [
       "$\\displaystyle 120 \\, \\mathrm{in}$"
      ],
      "text/plain": [
       "<IPython.core.display.Math object>"
      ]
     },
     "metadata": {},
     "output_type": "display_data"
    }
   ],
   "source": [
    "# Display LaTeX representation of foot_length\n",
    "foot_latex = foot_length.to_latex_string()\n",
    "display(Math(foot_latex))"
   ]
  },
  {
   "cell_type": "code",
   "execution_count": 24,
   "metadata": {},
   "outputs": [
    {
     "data": {
      "text/latex": [
       "$\\displaystyle 2 \\, \\mathrm{m}$"
      ],
      "text/plain": [
       "<IPython.core.display.Math object>"
      ]
     },
     "metadata": {},
     "output_type": "display_data"
    }
   ],
   "source": [
    "# Display LaTeX representation of meter_length\n",
    "meter_latex = meter_length.to_latex_string(LengthUnit.METER)\n",
    "display(Math(meter_latex))"
   ]
  },
  {
   "cell_type": "markdown",
   "metadata": {},
   "source": [
    "## Converting Units in LaTeX Output"
   ]
  },
  {
   "cell_type": "code",
   "execution_count": 25,
   "metadata": {},
   "outputs": [
    {
     "data": {
      "text/latex": [
       "$\\displaystyle 0.254 \\, \\mathrm{m}$"
      ],
      "text/plain": [
       "<IPython.core.display.Math object>"
      ]
     },
     "metadata": {},
     "output_type": "display_data"
    }
   ],
   "source": [
    "# Display inch_length in meters\n",
    "inch_in_meters_latex = inch_length.to_latex_string(LengthUnit.METER)\n",
    "display(Math(inch_in_meters_latex))"
   ]
  },
  {
   "cell_type": "code",
   "execution_count": 26,
   "metadata": {},
   "outputs": [
    {
     "data": {
      "text/latex": [
       "$\\displaystyle 120 \\, \\mathrm{in}$"
      ],
      "text/plain": [
       "<IPython.core.display.Math object>"
      ]
     },
     "metadata": {},
     "output_type": "display_data"
    }
   ],
   "source": [
    "# Display foot_length in inches\n",
    "foot_in_inches_latex = foot_length.to_latex_string(LengthUnit.INCH)\n",
    "display(Math(foot_in_inches_latex))"
   ]
  },
  {
   "cell_type": "code",
   "execution_count": 27,
   "metadata": {},
   "outputs": [
    {
     "data": {
      "text/latex": [
       "$\\displaystyle 2000 \\, \\mathrm{mm}$"
      ],
      "text/plain": [
       "<IPython.core.display.Math object>"
      ]
     },
     "metadata": {},
     "output_type": "display_data"
    }
   ],
   "source": [
    "# Display meter_length in millimeters\n",
    "meter_in_mm_latex = meter_length.to_latex_string(LengthUnit.MILLIMETER)\n",
    "display(Math(meter_in_mm_latex))"
   ]
  },
  {
   "cell_type": "markdown",
   "metadata": {},
   "source": [
    "## LaTeX for Mathematical Operations"
   ]
  },
  {
   "cell_type": "code",
   "execution_count": 28,
   "metadata": {},
   "outputs": [
    {
     "data": {
      "text/latex": [
       "$\\displaystyle 130 \\, \\mathrm{in}$"
      ],
      "text/plain": [
       "<IPython.core.display.Math object>"
      ]
     },
     "metadata": {},
     "output_type": "display_data"
    }
   ],
   "source": [
    "# Addition: 10 inches + 3 feet\n",
    "sum_length = inch_length + foot_length\n",
    "sum_latex = sum_length.to_latex_string()\n",
    "display(Math(sum_latex))"
   ]
  },
  {
   "cell_type": "code",
   "execution_count": 29,
   "metadata": {},
   "outputs": [
    {
     "data": {
      "text/latex": [
       "$\\displaystyle 88.74 \\, \\mathrm{in}$"
      ],
      "text/plain": [
       "<IPython.core.display.Math object>"
      ]
     },
     "metadata": {},
     "output_type": "display_data"
    },
    {
     "data": {
      "text/latex": [
       "$\\displaystyle 2.254 \\, \\mathrm{m}$"
      ],
      "text/plain": [
       "<IPython.core.display.Math object>"
      ]
     },
     "metadata": {},
     "output_type": "display_data"
    }
   ],
   "source": [
    "# Addition showing original and converted units\n",
    "sum_length2 = inch_length + meter_length\n",
    "# In inches\n",
    "display(Math(sum_length2.to_latex_string()))\n",
    "# In meters\n",
    "display(Math(sum_length2.to_latex_string(LengthUnit.METER)))"
   ]
  },
  {
   "cell_type": "code",
   "execution_count": 30,
   "metadata": {},
   "outputs": [
    {
     "data": {
      "text/latex": [
       "$\\displaystyle 20 \\, \\mathrm{in}$"
      ],
      "text/plain": [
       "<IPython.core.display.Math object>"
      ]
     },
     "metadata": {},
     "output_type": "display_data"
    }
   ],
   "source": [
    "# Multiplication by scalar\n",
    "doubled_length = inch_length * 2\n",
    "display(Math(doubled_length.to_latex_string()))"
   ]
  },
  {
   "cell_type": "code",
   "execution_count": 31,
   "metadata": {},
   "outputs": [
    {
     "data": {
      "text/latex": [
       "$\\displaystyle 100 [L^2]$"
      ],
      "text/plain": [
       "<IPython.core.display.Math object>"
      ]
     },
     "metadata": {},
     "output_type": "display_data"
    }
   ],
   "source": [
    "# Area calculation (automatically creates L² unit)\n",
    "area = inch_length * inch_length\n",
    "display(Math(area.to_latex_string()))"
   ]
  },
  {
   "cell_type": "markdown",
   "metadata": {},
   "source": [
    "## LaTeX for Mathematical Functions"
   ]
  },
  {
   "cell_type": "code",
   "execution_count": 32,
   "metadata": {},
   "outputs": [
    {
     "data": {
      "text/latex": [
       "$\\displaystyle 3.1622776601683795$"
      ],
      "text/plain": [
       "<IPython.core.display.Math object>"
      ]
     },
     "metadata": {},
     "output_type": "display_data"
    }
   ],
   "source": [
    "# Square root (automatically creates L^0.5 unit)\n",
    "sqrt_length = Result.sqrt(inch_length)\n",
    "display(Math(sqrt_length.to_latex_string()))"
   ]
  },
  {
   "cell_type": "code",
   "execution_count": 33,
   "metadata": {},
   "outputs": [
    {
     "data": {
      "text/latex": [
       "$\\displaystyle 120 \\, \\mathrm{in}$"
      ],
      "text/plain": [
       "<IPython.core.display.Math object>"
      ]
     },
     "metadata": {},
     "output_type": "display_data"
    }
   ],
   "source": [
    "# SRSS (Square Root Sum of Squares)\n",
    "srss_length = Result.srss(foot_length, mm_length)\n",
    "display(Math(srss_length.to_latex_string()))"
   ]
  },
  {
   "cell_type": "markdown",
   "metadata": {},
   "source": [
    "## Creating Complex Equations with structunits LaTeX Output"
   ]
  },
  {
   "cell_type": "code",
   "execution_count": 34,
   "metadata": {},
   "outputs": [
    {
     "data": {
      "text/latex": [
       "$\\displaystyle \\text{Total Length} = 10 \\, \\mathrm{in} + 120 \\, \\mathrm{in} + 2 \\, \\mathrm{m} = 208.74 \\, \\mathrm{in} = 17.40 \\, \\mathrm{ft} = 5.30 \\, \\mathrm{m}$"
      ],
      "text/plain": [
       "<IPython.core.display.Math object>"
      ]
     },
     "metadata": {},
     "output_type": "display_data"
    }
   ],
   "source": [
    "# Creating a complex equation with multiple unit representations\n",
    "total_length = inch_length + foot_length + meter_length\n",
    "\n",
    "# Constructing a LaTeX equation with different unit representations\n",
    "equation = (\n",
    "    \"\\\\text{Total Length} = \" +\n",
    "    inch_length.to_latex_string() + \" + \" +\n",
    "    foot_length.to_latex_string() + \" + \" +\n",
    "    meter_length.to_latex_string(LengthUnit.METER) + \" = \" +\n",
    "    f\"{total_length.convert_to(LengthUnit.INCH):.2f} \\\\, \\\\mathrm{{in}} = \" +\n",
    "    f\"{total_length.convert_to(LengthUnit.FOOT):.2f} \\\\, \\\\mathrm{{ft}} = \" +\n",
    "    f\"{total_length.convert_to(LengthUnit.METER):.2f} \\\\, \\\\mathrm{{m}}\"\n",
    ")\n",
    "\n",
    "display(Math(equation))"
   ]
  },
  {
   "cell_type": "markdown",
   "metadata": {},
   "source": [
    "## Using structunits in Scientific Formulas"
   ]
  },
  {
   "cell_type": "code",
   "execution_count": 35,
   "metadata": {},
   "outputs": [
    {
     "data": {
      "text/latex": [
       "$\\displaystyle A = \\pi r^2 = \\pi \\cdot (10 \\, \\mathrm{in})^2 = 314.16 \\, \\mathrm{in}^2$"
      ],
      "text/plain": [
       "<IPython.core.display.Math object>"
      ]
     },
     "metadata": {},
     "output_type": "display_data"
    }
   ],
   "source": [
    "# Circle area calculation\n",
    "import math\n",
    "\n",
    "# Calculate circle area\n",
    "radius = inch_length  # 10 inches radius\n",
    "circle_area = math.pi * (radius * radius).value\n",
    "\n",
    "# Create LaTeX formula\n",
    "circle_formula = (\n",
    "    \"A = \\\\pi r^2 = \\\\pi \\\\cdot (\" +\n",
    "    radius.to_latex_string() +\n",
    "    \")^2 = \" +\n",
    "    f\"{circle_area:.2f} \\\\, \\\\mathrm{{in}}^2\"\n",
    ")\n",
    "\n",
    "display(Math(circle_formula))"
   ]
  },
  {
   "cell_type": "markdown",
   "metadata": {},
   "source": [
    "## Engineering Formula Example"
   ]
  },
  {
   "cell_type": "code",
   "execution_count": 36,
   "metadata": {},
   "outputs": [
    {
     "data": {
      "text/latex": [
       "$\\displaystyle 120 \\, \\mathrm{in}$"
      ],
      "text/plain": [
       "<IPython.core.display.Math object>"
      ]
     },
     "metadata": {},
     "output_type": "display_data"
    },
    {
     "data": {
      "text/latex": [
       "$\\displaystyle \\delta = \\frac{PL^3}{3EI} = \\frac{10 \\, \\mathrm{kip} \\cdot (120 \\, \\mathrm{in})^3}{3 \\cdot 29,000,000 \\cdot 245} = 0.8107 \\, \\mathrm{in}$"
      ],
      "text/plain": [
       "<IPython.core.display.Math object>"
      ]
     },
     "metadata": {},
     "output_type": "display_data"
    }
   ],
   "source": [
    "from structunits.specific_units.stress import Stress\n",
    "from structunits.specific_units.stress_unit import StressUnit\n",
    "from structunits.specific_units.force import Force\n",
    "from structunits.specific_units.force_unit import ForceUnit\n",
    "from structunits.specific_units.length_to_the_4th import LengthToThe4th\n",
    "from structunits.specific_units.length_to_the_4th_unit import LengthToThe4thUnit\n",
    "\n",
    "# Beam deflection formula example\n",
    "P = Force(10000, ForceUnit.POUND)  # Load in lbs\n",
    "L = foot_length  # Beam length (10 ft)\n",
    "E = Stress(29000000,StressUnit.PSI)  # Young's modulus in psi\n",
    "I = LengthToThe4th(245, LengthToThe4thUnit.INCHES_TO_THE_4TH)  # Moment of inertia in in^4\n",
    "\n",
    "# Calculate deflection\n",
    "deflection = (P * (L**3)) / (3 * E * I)\n",
    "deflection.display_unit = LengthUnit.INCH  # Set display unit to inches\n",
    "\n",
    "display(Math(foot_length.to_latex_string()))\n",
    "\n",
    "# Create formula LaTeX\n",
    "deflection_formula = (\n",
    "    \"\\\\delta = \\\\frac{PL^3}{3EI} = \\\\frac{\" +\n",
    "    f\"{P} \\\\cdot ({foot_length})^3\" +\n",
    "    \"}{3 \\\\cdot 29,000,000 \\\\cdot 245} = \" +\n",
    "    f\"{deflection}\"\n",
    ")\n",
    "\n",
    "display(Math(deflection_formula))"
   ]
  }
 ],
 "metadata": {
  "kernelspec": {
   "display_name": ".venv",
   "language": "python",
   "name": "python3"
  },
  "language_info": {
   "codemirror_mode": {
    "name": "ipython",
    "version": 3
   },
   "file_extension": ".py",
   "mimetype": "text/x-python",
   "name": "python",
   "nbconvert_exporter": "python",
   "pygments_lexer": "ipython3",
   "version": "3.11.3"
  }
 },
 "nbformat": 4,
 "nbformat_minor": 4
}
