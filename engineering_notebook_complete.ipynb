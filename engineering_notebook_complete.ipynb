{
 "cells": [
  {
   "cell_type": "markdown",
   "metadata": {},
   "source": [
    "# Engineering Calculations with structunits\n",
    "\n",
    "This notebook demonstrates how to use the structunits framework for engineering calculations."
   ]
  },
  {
   "cell_type": "code",
   "execution_count": null,
   "metadata": {},
   "outputs": [],
   "source": [
    "# Import required modules\n",
    "from structunits.specific_units import *\n",
    "\n",
    "from structunits.result import Result\n",
    "\n",
    "# For displaying LaTeX in the notebook\n",
    "from IPython.display import display, Math"
   ]
  },
  {
   "cell_type": "markdown",
   "metadata": {},
   "source": [
    "## Beam Design Example\n",
    "\n",
    "Let's solve a simple beam design problem using our units framework."
   ]
  },
  {
   "cell_type": "code",
   "execution_count": 20,
   "metadata": {},
   "outputs": [],
   "source": [
    "# Define beam parameters\n",
    "span = Length(20, LengthUnit.FOOT)  # 20-foot span\n",
    "dead_load = ForcePerLength(0.5, ForcePerLengthUnit.KIP_PER_FOOT)  # 0.5 kip/ft dead load\n",
    "live_load = ForcePerLength(1.0, ForcePerLengthUnit.KIP_PER_FOOT)  # 1.0 kip/ft live load"
   ]
  },
  {
   "cell_type": "code",
   "execution_count": 21,
   "metadata": {},
   "outputs": [
    {
     "data": {
      "text/latex": [
       "$\\displaystyle \\text{Span} = 20 \\, \\mathrm{ft} = 240 \\, \\mathrm{in} = 6.096 \\, \\mathrm{m}$"
      ],
      "text/plain": [
       "<IPython.core.display.Math object>"
      ]
     },
     "metadata": {},
     "output_type": "display_data"
    },
    {
     "data": {
      "text/latex": [
       "$\\displaystyle \\text{Dead Load} = 0.5 \\, \\mathrm{k/ft} = 0.04167 \\, \\mathrm{k/in} = 7.30 \\, \\mathrm{kN/m}$"
      ],
      "text/plain": [
       "<IPython.core.display.Math object>"
      ]
     },
     "metadata": {},
     "output_type": "display_data"
    },
    {
     "data": {
      "text/latex": [
       "$\\displaystyle \\text{Live Load} = 1.0 \\, \\mathrm{k/ft} = 0.08333 \\, \\mathrm{k/in} = 14.59 \\, \\mathrm{kN/m}$"
      ],
      "text/plain": [
       "<IPython.core.display.Math object>"
      ]
     },
     "metadata": {},
     "output_type": "display_data"
    }
   ],
   "source": [
    "# Display the parameters with different units\n",
    "span_latex = f\"\\\\text{{Span}} = {span.convert_to(LengthUnit.FOOT):.0f} \\\\, \\\\mathrm{{ft}} = {span.convert_to(LengthUnit.INCH):.0f} \\\\, \\\\mathrm{{in}} = {span.convert_to(LengthUnit.METER):.3f} \\\\, \\\\mathrm{{m}}\"\n",
    "display(Math(span_latex))\n",
    "\n",
    "dl_latex = f\"\\\\text{{Dead Load}} = {dead_load.convert_to(ForcePerLengthUnit.KIP_PER_FOOT):.1f} \\\\, \\\\mathrm{{k/ft}} = {dead_load.convert_to(ForcePerLengthUnit.KIP_PER_INCH):.5f} \\\\, \\\\mathrm{{k/in}} = {dead_load.convert_to(ForcePerLengthUnit.KILONEWTON_PER_METER):.2f} \\\\, \\\\mathrm{{kN/m}}\"\n",
    "display(Math(dl_latex))\n",
    "\n",
    "ll_latex = f\"\\\\text{{Live Load}} = {live_load.convert_to(ForcePerLengthUnit.KIP_PER_FOOT):.1f} \\\\, \\\\mathrm{{k/ft}} = {live_load.convert_to(ForcePerLengthUnit.KIP_PER_INCH):.5f} \\\\, \\\\mathrm{{k/in}} = {live_load.convert_to(ForcePerLengthUnit.KILONEWTON_PER_METER):.2f} \\\\, \\\\mathrm{{kN/m}}\"\n",
    "display(Math(ll_latex))"
   ]
  },
  {
   "cell_type": "markdown",
   "metadata": {},
   "source": [
    "### Calculate Load Combinations\n",
    "\n",
    "Let's apply ASCE 7-16 load combinations:\n",
    "1. 1.4D\n",
    "2. 1.2D + 1.6L"
   ]
  },
  {
   "cell_type": "code",
   "execution_count": 22,
   "metadata": {},
   "outputs": [
    {
     "data": {
      "text/latex": [
       "$\\displaystyle \\text{Load Combination 1} = 1.4D = 1.4 \\times 0.5 \\, \\mathrm{k/ft} = 0.7 \\, \\mathrm{k/ft}$"
      ],
      "text/plain": [
       "<IPython.core.display.Math object>"
      ]
     },
     "metadata": {},
     "output_type": "display_data"
    },
    {
     "data": {
      "text/latex": [
       "$\\displaystyle \\text{Load Combination 2} = 1.2D + 1.6L = 1.2 \\times 0.5 + 1.6 \\times 1.0 = 2.2 \\, \\mathrm{k/ft}$"
      ],
      "text/plain": [
       "<IPython.core.display.Math object>"
      ]
     },
     "metadata": {},
     "output_type": "display_data"
    }
   ],
   "source": [
    "# Calculate load combinations\n",
    "load_combo_1 = dead_load * 1.4\n",
    "load_combo_2 = dead_load * 1.2 + live_load * 1.6\n",
    "\n",
    "# Display load combinations\n",
    "lc1_latex = f\"\\\\text{{Load Combination 1}} = 1.4D = 1.4 \\\\times {dead_load.convert_to(ForcePerLengthUnit.KIP_PER_FOOT):.1f} \\\\, \\\\mathrm{{k/ft}} = {load_combo_1.convert_to(ForcePerLengthUnit.KIP_PER_FOOT):.1f} \\\\, \\\\mathrm{{k/ft}}\"\n",
    "display(Math(lc1_latex))\n",
    "\n",
    "lc2_latex = f\"\\\\text{{Load Combination 2}} = 1.2D + 1.6L = 1.2 \\\\times {dead_load.convert_to(ForcePerLengthUnit.KIP_PER_FOOT):.1f} + 1.6 \\\\times {live_load.convert_to(ForcePerLengthUnit.KIP_PER_FOOT):.1f} = {load_combo_2.convert_to(ForcePerLengthUnit.KIP_PER_FOOT):.1f} \\\\, \\\\mathrm{{k/ft}}\"\n",
    "display(Math(lc2_latex))"
   ]
  },
  {
   "cell_type": "markdown",
   "metadata": {},
   "source": [
    "### Calculate Maximum Moment\n",
    "\n",
    "For a simply supported beam with uniform load, the maximum moment is:\n",
    "\n",
    "$M_{max} = \\frac{wL^2}{8}$\n",
    "\n",
    "where:\n",
    "- w is the uniform load\n",
    "- L is the span length"
   ]
  },
  {
   "cell_type": "code",
   "execution_count": 23,
   "metadata": {},
   "outputs": [
    {
     "data": {
      "text/latex": [
       "$\\displaystyle M_{max} = \\frac{wL^2}{8} = \\frac{2.2 \\, \\mathrm{k/ft} \\times (20 \\, \\mathrm{ft})^2}{8} = 110 \\, \\mathrm{k-ft}$"
      ],
      "text/plain": [
       "<IPython.core.display.Math object>"
      ]
     },
     "metadata": {},
     "output_type": "display_data"
    },
    {
     "data": {
      "text/latex": [
       "$\\displaystyle M_{max} = 110 \\, \\mathrm{k-ft} = 1320 \\, \\mathrm{k-in} = 149.1 \\, \\mathrm{kN-m}$"
      ],
      "text/plain": [
       "<IPython.core.display.Math object>"
      ]
     },
     "metadata": {},
     "output_type": "display_data"
    }
   ],
   "source": [
    "# Calculate maximum moment using the highest load combination\n",
    "max_moment = load_combo_2 * span * span / 8\n",
    "\n",
    "# Display the equation and result\n",
    "moment_eq = f\"M_{{max}} = \\\\frac{{wL^2}}{{8}} = \\\\frac{{{load_combo_2.convert_to(ForcePerLengthUnit.KIP_PER_FOOT):.1f} \\\\, \\\\mathrm{{k/ft}} \\\\times ({span.convert_to(LengthUnit.FOOT):.0f} \\\\, \\\\mathrm{{ft}})^2}}{{8}} = {max_moment.convert_to(MomentUnit.KIP_FOOT):.0f} \\\\, \\\\mathrm{{k-ft}}\"\n",
    "display(Math(moment_eq))\n",
    "\n",
    "# Show moment in different units\n",
    "moment_units = f\"M_{{max}} = {max_moment.convert_to(MomentUnit.KIP_FOOT):.0f} \\\\, \\\\mathrm{{k-ft}} = {max_moment.convert_to(MomentUnit.KIP_INCH):.0f} \\\\, \\\\mathrm{{k-in}} = {max_moment.convert_to(MomentUnit.KILONEWTON_METER):.1f} \\\\, \\\\mathrm{{kN-m}}\"\n",
    "display(Math(moment_units))"
   ]
  },
  {
   "cell_type": "markdown",
   "metadata": {},
   "source": [
    "### Calculate Beam Shear\n",
    "\n",
    "For a simply supported beam with uniform load, the maximum shear is:\n",
    "\n",
    "$V_{max} = \\frac{wL}{2}$\n",
    "\n",
    "where:\n",
    "- w is the uniform load\n",
    "- L is the span length"
   ]
  },
  {
   "cell_type": "code",
   "execution_count": 24,
   "metadata": {},
   "outputs": [
    {
     "data": {
      "text/latex": [
       "$\\displaystyle V_{max} = \\frac{wL}{2} = \\frac{2.2 \\, \\mathrm{k/ft} \\times 20 \\, \\mathrm{ft}}{2} = 22 \\, \\mathrm{kip}$"
      ],
      "text/plain": [
       "<IPython.core.display.Math object>"
      ]
     },
     "metadata": {},
     "output_type": "display_data"
    },
    {
     "data": {
      "text/latex": [
       "$\\displaystyle V_{max} = 22 \\, \\mathrm{kip} = 22000 \\, \\mathrm{lb} = 97.86 \\, \\mathrm{kN}$"
      ],
      "text/plain": [
       "<IPython.core.display.Math object>"
      ]
     },
     "metadata": {},
     "output_type": "display_data"
    }
   ],
   "source": [
    "# Calculate maximum shear using the highest load combination\n",
    "max_shear = load_combo_2 * span / 2\n",
    "\n",
    "# Display the equation and result\n",
    "shear_eq = f\"V_{{max}} = \\\\frac{{wL}}{{2}} = \\\\frac{{{load_combo_2.convert_to(ForcePerLengthUnit.KIP_PER_FOOT):.1f} \\\\, \\\\mathrm{{k/ft}} \\\\times {span.convert_to(LengthUnit.FOOT):.0f} \\\\, \\\\mathrm{{ft}}}}{{2}} = {max_shear.convert_to(ForceUnit.KIP):.0f} \\\\, \\\\mathrm{{kip}}\"\n",
    "display(Math(shear_eq))\n",
    "\n",
    "# Show shear in different units\n",
    "shear_units = f\"V_{{max}} = {max_shear.convert_to(ForceUnit.KIP):.0f} \\\\, \\\\mathrm{{kip}} = {max_shear.convert_to(ForceUnit.POUND):.0f} \\\\, \\\\mathrm{{lb}} = {max_shear.convert_to(ForceUnit.KILONEWTON):.2f} \\\\, \\\\mathrm{{kN}}\"\n",
    "display(Math(shear_units))"
   ]
  },
  {
   "cell_type": "markdown",
   "metadata": {},
   "source": [
    "## Steel Beam Selection\n",
    "\n",
    "Let's select a steel beam based on the moment capacity. We'll assume A992 steel with Fy = 50 ksi."
   ]
  },
  {
   "cell_type": "code",
   "execution_count": 25,
   "metadata": {},
   "outputs": [
    {
     "data": {
      "text/latex": [
       "$\\displaystyle F_y = 50 \\, \\mathrm{ksi}$"
      ],
      "text/plain": [
       "<IPython.core.display.Math object>"
      ]
     },
     "metadata": {},
     "output_type": "display_data"
    }
   ],
   "source": [
    "yield_strength = Stress(50, StressUnit.KSI)\n",
    "\n",
    "# Display yield strength\n",
    "fy_latex = f\"F_y = {yield_strength.convert_to(StressUnit.KSI):.0f} \\\\, \\\\mathrm{{ksi}}\"\n",
    "display(Math(fy_latex))"
   ]
  },
  {
   "cell_type": "code",
   "execution_count": 26,
   "metadata": {},
   "outputs": [
    {
     "ename": "AttributeError",
     "evalue": "'int' object has no attribute 'to_string'",
     "output_type": "error",
     "traceback": [
      "\u001b[31m---------------------------------------------------------------------------\u001b[39m",
      "\u001b[31mAttributeError\u001b[39m                            Traceback (most recent call last)",
      "\u001b[36mCell\u001b[39m\u001b[36m \u001b[39m\u001b[32mIn[26]\u001b[39m\u001b[32m, line 7\u001b[39m\n\u001b[32m      4\u001b[39m phi = \u001b[32m0.9\u001b[39m\n\u001b[32m      5\u001b[39m inches_per_foot = Length(\u001b[32m1\u001b[39m, LengthUnit.FOOT).convert_to(LengthUnit.INCH)\n\u001b[32m----> \u001b[39m\u001b[32m7\u001b[39m display(Math(\u001b[43minches_per_foot\u001b[49m\u001b[43m.\u001b[49m\u001b[43mto_string\u001b[49m()))\n\u001b[32m      9\u001b[39m required_zx = max_moment.convert_to(MomentUnit.KIP_FOOT) * inches_per_foot / (phi * yield_strength.convert_to(StressUnit.KSI))\n\u001b[32m     11\u001b[39m \u001b[38;5;66;03m# Display required section modulus calculation\u001b[39;00m\n",
      "\u001b[31mAttributeError\u001b[39m: 'int' object has no attribute 'to_string'"
     ]
    }
   ],
   "source": [
    "# Calculate required plastic section modulus (Zx)\n",
    "# For LRFD design: Zx = Mu / (phi * Fy)\n",
    "# where phi = 0.9 for flexure\n",
    "phi = 0.9\n",
    "inches_per_foot = Length(1, LengthUnit.FOOT).convert_to(LengthUnit.INCH)\n",
    "\n",
    "display(Math(inches_per_foot.to_string()))\n",
    "\n",
    "required_zx = max_moment.convert_to(MomentUnit.KIP_FOOT) * inches_per_foot / (phi * yield_strength.convert_to(StressUnit.KSI))\n",
    "\n",
    "# Display required section modulus calculation\n",
    "zx_latex = f\"\\\\text{{Required Plastic Section Modulus}} = Z_x = \\\\frac{{M_u}}{{\\\\phi F_y}} = \\\\frac{{{max_moment.convert_to(MomentUnit.KIP_FOOT):.0f} \\\\, \\\\mathrm{{k-ft}} \\\\times {inches_per_foot:.0f} \\\\, \\\\mathrm{{in/ft}}}}{{0.9 \\\\times {yield_strength.convert_to(StressUnit.KSI):.0f} \\\\, \\\\mathrm{{ksi}}}} = {required_zx:.1f} \\\\, \\\\mathrm{{in}}^3\"\n",
    "display(Math(zx_latex))"
   ]
  },
  {
   "cell_type": "markdown",
   "metadata": {},
   "source": [
    "Based on the required plastic section modulus of 29.3 in³, we would select a W10x33 beam (Zx = 38.8 in³) or similar section from the AISC Steel Manual."
   ]
  },
  {
   "cell_type": "markdown",
   "metadata": {},
   "source": [
    "## Deflection Check\n",
    "\n",
    "For a simply supported beam with uniform load, the maximum deflection is:\n",
    "\n",
    "$\\Delta_{max} = \\frac{5wL^4}{384EI}$\n",
    "\n",
    "where:\n",
    "- w is the uniform load\n",
    "- L is the span length\n",
    "- E is the modulus of elasticity\n",
    "- I is the moment of inertia"
   ]
  },
  {
   "cell_type": "code",
   "execution_count": null,
   "metadata": {},
   "outputs": [
    {
     "data": {
      "text/latex": [
       "$\\displaystyle \\text{W10x33 Properties:}$"
      ],
      "text/plain": [
       "<IPython.core.display.Math object>"
      ]
     },
     "metadata": {},
     "output_type": "display_data"
    },
    {
     "data": {
      "text/latex": [
       "$\\displaystyle I_x = 170 \\, \\mathrm{in}^4$"
      ],
      "text/plain": [
       "<IPython.core.display.Math object>"
      ]
     },
     "metadata": {},
     "output_type": "display_data"
    },
    {
     "data": {
      "text/latex": [
       "$\\displaystyle E = 29000 \\, \\mathrm{ksi}$"
      ],
      "text/plain": [
       "<IPython.core.display.Math object>"
      ]
     },
     "metadata": {},
     "output_type": "display_data"
    }
   ],
   "source": [
    "# Define W10x33 properties\n",
    "\n",
    "ix = LengthToThe4th(170, LengthToThe4thUnit.INCH)  # in⁴\n",
    "e_steel = Stress(29000, StressUnit.KSI)  # ksi\n",
    "\n",
    "# Display properties\n",
    "display(Math(\"\\\\text{W10x33 Properties:}\"))\n",
    "display(Math(f\"I_x = {ix.convert_to(LengthToThe4thUnit.INCHES_TO_THE_4TH):.0f} \\\\, \\\\mathrm{{in}}^4\"))\n",
    "display(Math(f\"E = {e_steel.convert_to(StressUnit.KSI):.0f} \\\\, \\\\mathrm{{ksi}}\"))"
   ]
  },
  {
   "cell_type": "code",
   "execution_count": null,
   "metadata": {},
   "outputs": [
    {
     "data": {
      "text/latex": [
       "$\\displaystyle \\Delta_{max} = \\frac{5wL^4}{384EI} = \\frac{5 \\times 0.5 \\, \\mathrm{k/ft} \\times (20 \\times 12)^4 \\, \\mathrm{in}^4}{384 \\times 29000 \\, \\mathrm{ksi} \\times 170 \\, \\mathrm{in}^4} = 4.38 \\, \\mathrm{in}$"
      ],
      "text/plain": [
       "<IPython.core.display.Math object>"
      ]
     },
     "metadata": {},
     "output_type": "display_data"
    },
    {
     "data": {
      "text/latex": [
       "$\\displaystyle \\text{Deflection limit} = \\frac{L}{360} = \\frac{240 \\, \\mathrm{in}}{360} = 0.67 \\, \\mathrm{in}$"
      ],
      "text/plain": [
       "<IPython.core.display.Math object>"
      ]
     },
     "metadata": {},
     "output_type": "display_data"
    },
    {
     "data": {
      "text/latex": [
       "$\\displaystyle \\text{Conclusion: } 4.38 \\, \\mathrm{in} > 0.67 \\, \\mathrm{in} \\, \\text{(Not OK, need a stiffer beam)}$"
      ],
      "text/plain": [
       "<IPython.core.display.Math object>"
      ]
     },
     "metadata": {},
     "output_type": "display_data"
    }
   ],
   "source": [
    "# Calculate maximum deflection for service load (dead load only)\n",
    "span_inches = span.convert_to(LengthUnit.INCH)\n",
    "w_service = dead_load.convert_to(ForcePerLengthUnit.KIP_PER_FOOT)\n",
    "deflection = (5 * w_service * (span_inches**4)) / (384 * e_steel.convert_to(StressUnit.KSI) * ix.convert_to(LengthToThe4thUnit.INCHES_TO_THE_4TH))\n",
    "\n",
    "# Calculate deflection limit (typically L/360 for floor beams)\n",
    "deflection_limit = span_inches / 360\n",
    "\n",
    "# Display deflection calculation\n",
    "defl_latex = f\"\\\\Delta_{{max}} = \\\\frac{{5wL^4}}{{384EI}} = \\\\frac{{5 \\\\times {w_service:.1f} \\\\, \\\\mathrm{{k/ft}} \\\\times ({span.convert_to(LengthUnit.FOOT):.0f} \\\\times 12)^4 \\\\, \\\\mathrm{{in}}^4}}{{384 \\\\times {e_steel.convert_to(StressUnit.KSI):.0f} \\\\, \\\\mathrm{{ksi}} \\\\times {ix.convert_to(LengthToThe4thUnit.INCHES_TO_THE_4TH):.0f} \\\\, \\\\mathrm{{in}}^4}} = {deflection:.2f} \\\\, \\\\mathrm{{in}}\"\n",
    "display(Math(defl_latex))\n",
    "\n",
    "# Display deflection limit\n",
    "limit_latex = f\"\\\\text{{Deflection limit}} = \\\\frac{{L}}{{360}} = \\\\frac{{{span_inches:.0f} \\\\, \\\\mathrm{{in}}}}{{360}} = {deflection_limit:.2f} \\\\, \\\\mathrm{{in}}\"\n",
    "display(Math(limit_latex))\n",
    "\n",
    "# Display conclusion\n",
    "conclusion = f\"\\\\text{{Conclusion: }} {deflection:.2f} \\\\, \\\\mathrm{{in}} > {deflection_limit:.2f} \\\\, \\\\mathrm{{in}} \\\\, \\\\text{{(Not OK, need a stiffer beam)}}\"\n",
    "display(Math(conclusion))"
   ]
  },
  {
   "cell_type": "markdown",
   "metadata": {},
   "source": [
    "## Summary\n",
    "\n",
    "This example demonstrates how the structunits framework can be used for engineering calculations. The framework handles unit conversions automatically, making it easy to work with different unit systems while maintaining dimensional consistency in calculations.\n",
    "\n",
    "Key capabilities demonstrated:\n",
    "1. Creating values with different units (Length, Force, Moment, ForcePerLength)\n",
    "2. Converting between unit systems (US customary and SI)\n",
    "3. Mathematical operations (+, -, *, /) with automatic unit handling\n",
    "4. Formatted LaTeX output for documentation and reports\n",
    "\n",
    "In our beam design example, we determined:\n",
    "- Maximum moment: 110 kip-ft (149.1 kN-m)\n",
    "- Maximum shear: 22 kips (97.9 kN)\n",
    "- Required plastic section modulus: 29.3 in³\n",
    "- W10x33 section would work for strength, but not for stiffness (deflection)"
   ]
  }
 ],
 "metadata": {
  "kernelspec": {
   "display_name": ".venv",
   "language": "python",
   "name": "python3"
  },
  "language_info": {
   "codemirror_mode": {
    "name": "ipython",
    "version": 3
   },
   "file_extension": ".py",
   "mimetype": "text/x-python",
   "name": "python",
   "nbconvert_exporter": "python",
   "pygments_lexer": "ipython3",
   "version": "3.11.9"
  }
 },
 "nbformat": 4,
 "nbformat_minor": 4
}
